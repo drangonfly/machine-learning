{
 "cells": [
  {
   "cell_type": "code",
   "execution_count": 1,
   "metadata": {},
   "outputs": [],
   "source": [
    "import numpy as np"
   ]
  },
  {
   "cell_type": "code",
   "execution_count": 2,
   "metadata": {},
   "outputs": [],
   "source": [
    "def back_prob():\n",
    "    beta = np.ones(N)\n",
    "    for t in range(T - 2, -1, -1):\n",
    "        beta_old = beta.copy()\n",
    "        for i in range(N):\n",
    "            beta[i] = 0\n",
    "            for j in range(N):\n",
    "                beta[i] += A[i, j] * B[j, O[t + 1]] * beta_old[j]\n",
    "    p = 0\n",
    "    for i in range(N):\n",
    "        p += pi[i] * B[i, O[0]] * beta[i]\n",
    "    return p"
   ]
  },
  {
   "cell_type": "code",
   "execution_count": 3,
   "metadata": {},
   "outputs": [],
   "source": [
    "A = np.array([\n",
    "    [0.5, 0.2, 0.3],\n",
    "    [0.3, 0.5, 0.2],\n",
    "    [0.2, 0.3, 0.5]\n",
    "    ])"
   ]
  },
  {
   "cell_type": "code",
   "execution_count": 4,
   "metadata": {},
   "outputs": [],
   "source": [
    "B = np.array([\n",
    "    [0.5, 0.5],\n",
    "    [0.4, 0.6],\n",
    "    [0.7, 0.3]\n",
    "    ])"
   ]
  },
  {
   "cell_type": "code",
   "execution_count": 5,
   "metadata": {},
   "outputs": [],
   "source": [
    "pi = np.array([0.2, 0.4, 0.4])\n",
    "O = [0, 1, 0, 1]  # 0表示红，1表示白\n",
    "T = 4\n",
    "N = 3\n",
    "M = 2"
   ]
  },
  {
   "cell_type": "code",
   "execution_count": 6,
   "metadata": {},
   "outputs": [
    {
     "name": "stdout",
     "output_type": "stream",
     "text": [
      "后向 P(O|lambda) =  0.06009079999999999\n"
     ]
    }
   ],
   "source": [
    "p = back_prob()\n",
    "print(\"后向 P(O|lambda) = \", p)"
   ]
  },
  {
   "cell_type": "code",
   "execution_count": null,
   "metadata": {},
   "outputs": [],
   "source": []
  }
 ],
 "metadata": {
  "kernelspec": {
   "display_name": "Python 3",
   "language": "python",
   "name": "python3"
  },
  "language_info": {
   "codemirror_mode": {
    "name": "ipython",
    "version": 3
   },
   "file_extension": ".py",
   "mimetype": "text/x-python",
   "name": "python",
   "nbconvert_exporter": "python",
   "pygments_lexer": "ipython3",
   "version": "3.7.3"
  }
 },
 "nbformat": 4,
 "nbformat_minor": 4
}
