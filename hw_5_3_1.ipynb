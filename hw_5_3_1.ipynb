{
 "cells": [
  {
   "cell_type": "code",
   "execution_count": 1,
   "metadata": {},
   "outputs": [],
   "source": [
    "import torch\n",
    "from torch.optim import Optimizer\n",
    "from sklearn import datasets\n",
    "import math\n",
    "import numpy as np\n",
    "import matplotlib.pyplot as plt"
   ]
  },
  {
   "cell_type": "code",
   "execution_count": 2,
   "metadata": {},
   "outputs": [],
   "source": [
    "def load_boston(ratio=0.8):\n",
    "    X, Y = datasets.load_boston(True)\n",
    "    Y.shape = -1, 1\n",
    "    \n",
    "    # normalization\n",
    "    X = X/80\n",
    "    Y = Y/(np.max(Y) - np.min(Y))\n",
    "    \n",
    "    num_samples = len(Y)\n",
    "    num_train = math.ceil(num_samples * ratio)\n",
    "    \n",
    "    # 随机打乱数据\n",
    "    idx = np.random.permutation(np.arange(num_samples))\n",
    "    traindata = X[idx[:num_train]], Y[idx[:num_train]]\n",
    "    validdata = X[idx[num_train:]], Y[idx[num_train:]]\n",
    "    \n",
    "    return traindata, validdata"
   ]
  },
  {
   "cell_type": "code",
   "execution_count": 3,
   "metadata": {},
   "outputs": [],
   "source": [
    "class GradientDescent(torch.optim.Optimizer):\n",
    "    def __init__(self, params, lr=1e-3, alpha=0.9):\n",
    "        # 将参数导回Optimizer，这样可以允许lr_scheduler修改lr\n",
    "        defaults = dict(lr=lr, alpha=alpha)\n",
    "        super().__init__(params, defaults)\n",
    "        self.v=[]\n",
    "        for group in self.param_groups:\n",
    "            for p in group['params']:\n",
    "                self.v.append(0)\n",
    "        \n",
    "        \n",
    "    def step(self):\n",
    "        k=0\n",
    "        for group in self.param_groups:\n",
    "            alpha = group['alpha']\n",
    "            lr = group['lr']\n",
    "            for p in group['params']:\n",
    "                if p.grad is None:\n",
    "                    k=k+1\n",
    "                    continue\n",
    "                grad = p.grad.data\n",
    "                self.v[k]=alpha*self.v[k]-lr*grad\n",
    "                p.data=p.data+self.v[k]\n",
    "                k=k+1\n",
    "                \n",
    "                \n",
    "\n",
    "            "
   ]
  },
  {
   "cell_type": "code",
   "execution_count": 4,
   "metadata": {},
   "outputs": [],
   "source": [
    "(X_train, Y_train), (X_valid, Y_valid) = load_boston()\n",
    "X_train, Y_train = torch.Tensor(X_train), torch.Tensor(Y_train)\n",
    "X_valid, Y_valid = torch.Tensor(X_valid), torch.Tensor(Y_valid)"
   ]
  },
  {
   "cell_type": "code",
   "execution_count": 5,
   "metadata": {},
   "outputs": [],
   "source": [
    "model = torch.nn.Sequential(\n",
    "    torch.nn.Linear(13, 50),\n",
    "    torch.nn.Sigmoid(),\n",
    "    torch.nn.Linear(50, 1)\n",
    ")"
   ]
  },
  {
   "cell_type": "code",
   "execution_count": 6,
   "metadata": {},
   "outputs": [],
   "source": [
    "loss = torch.nn.MSELoss()"
   ]
  },
  {
   "cell_type": "code",
   "execution_count": 7,
   "metadata": {},
   "outputs": [],
   "source": [
    "opt = GradientDescent(model.parameters(), lr=1e-5,alpha=0.99)"
   ]
  },
  {
   "cell_type": "code",
   "execution_count": 8,
   "metadata": {},
   "outputs": [
    {
     "name": "stdout",
     "output_type": "stream",
     "text": [
      "Iter 0: loss 0.2703, valid loss 0.2773\n",
      "Iter 100: loss 0.0479, valid loss 0.0605\n",
      "Iter 200: loss 0.0725, valid loss 0.0886\n",
      "Iter 300: loss 0.0398, valid loss 0.0538\n",
      "Iter 400: loss 0.0426, valid loss 0.0557\n",
      "Iter 500: loss 0.0370, valid loss 0.0504\n",
      "Iter 600: loss 0.0366, valid loss 0.0497\n",
      "Iter 700: loss 0.0351, valid loss 0.0480\n",
      "Iter 800: loss 0.0343, valid loss 0.0471\n",
      "Iter 900: loss 0.0335, valid loss 0.0461\n"
     ]
    }
   ],
   "source": [
    "valid_losses = []\n",
    "train_losses = []\n",
    "for i in range(1000):\n",
    "    X, Y = X_train, Y_train\n",
    "    \n",
    "    opt.zero_grad()\n",
    "    l = loss(model(X), Y)\n",
    "    l.backward()\n",
    "    opt.step()\n",
    "    \n",
    "    with torch.no_grad():\n",
    "        cur_train_loss = l\n",
    "        cur_valid_loss = loss(Y_valid, model(X_valid))\n",
    "        valid_losses.append(cur_valid_loss) \n",
    "        train_losses.append(cur_train_loss)\n",
    "\n",
    "        if i%100 == 0:\n",
    "            print(f\"Iter {i}: loss {cur_train_loss:.4f}, valid loss {cur_valid_loss:.4f}\")\n",
    "       "
   ]
  },
  {
   "cell_type": "code",
   "execution_count": 9,
   "metadata": {},
   "outputs": [
    {
     "data": {
      "text/plain": [
       "<matplotlib.legend.Legend at 0x7f3ae2916780>"
      ]
     },
     "execution_count": 9,
     "metadata": {},
     "output_type": "execute_result"
    },
    {
     "data": {
      "image/png": "[encoded data removed]",
      "text/plain": [
       "<Figure size 432x288 with 1 Axes>"
      ]
     },
     "metadata": {
      "needs_background": "light"
     },
     "output_type": "display_data"
    }
   ],
   "source": [
    "plt.plot(train_losses)\n",
    "plt.plot(valid_losses)\n",
    "plt.legend([\"train loss\", \"validation loss\"])"
   ]
  },
  {
   "cell_type": "code",
   "execution_count": null,
   "metadata": {},
   "outputs": [],
   "source": []
  }
 ],
 "metadata": {
  "kernelspec": {
   "display_name": "AI-Course",
   "language": "python",
   "name": "ai-course"
  },
  "language_info": {
   "codemirror_mode": {
    "name": "ipython",
    "version": 3
   },
   "file_extension": ".py",
   "mimetype": "text/x-python",
   "name": "python",
   "nbconvert_exporter": "python",
   "pygments_lexer": "ipython3",
   "version": "3.7.3"
  }
 },
 "nbformat": 4,
 "nbformat_minor": 4
}
