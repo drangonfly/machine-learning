{
 "cells": [
  {
   "cell_type": "code",
   "execution_count": 1,
   "metadata": {},
   "outputs": [],
   "source": [
    "import os\n",
    "os.environ[\"CUDA_VISIBLE_DEVICES\"] = \"3\"\n",
    "import torch\n",
    "from sklearn import datasets\n",
    "import math\n",
    "import numpy as np"
   ]
  },
  {
   "cell_type": "code",
   "execution_count": 2,
   "metadata": {},
   "outputs": [],
   "source": [
    "def load_boston(ratio=0.8):\n",
    "    X, Y = datasets.load_boston(True)\n",
    "    Y.shape = -1, 1\n",
    "    \n",
    "    # normalization\n",
    "    X = X/80\n",
    "    Y = Y/(np.max(Y) - np.min(Y))\n",
    "    \n",
    "    num_samples = len(Y)\n",
    "    num_train = math.ceil(num_samples * ratio)\n",
    "    \n",
    "    # 随机打乱数据\n",
    "    idx = np.random.permutation(np.arange(num_samples))\n",
    "    traindata = X[idx[:num_train]], Y[idx[:num_train]]\n",
    "    validdata = X[idx[num_train:]], Y[idx[num_train:]]\n",
    "    \n",
    "    return traindata, validdata"
   ]
  },
  {
   "cell_type": "code",
   "execution_count": 3,
   "metadata": {},
   "outputs": [],
   "source": [
    "(X_train, Y_train), (X_valid, Y_valid) = load_boston()\n",
    "X_train, Y_train = torch.tensor(X_train,dtype=torch.float32).cuda(), torch.tensor(Y_train,dtype=torch.float32).cuda()\n",
    "X_valid, Y_valid = torch.tensor(X_valid,dtype=torch.float32).cuda(), torch.tensor(Y_valid,dtype=torch.float32).cuda()"
   ]
  },
  {
   "cell_type": "code",
   "execution_count": 4,
   "metadata": {},
   "outputs": [
    {
     "name": "stdout",
     "output_type": "stream",
     "text": [
      "torch.Size([405, 13])\n"
     ]
    }
   ],
   "source": [
    "print(X_train.shape)"
   ]
  },
  {
   "cell_type": "code",
   "execution_count": 5,
   "metadata": {},
   "outputs": [
    {
     "data": {
      "text/plain": [
       "device(type='cuda', index=0)"
      ]
     },
     "execution_count": 5,
     "metadata": {},
     "output_type": "execute_result"
    }
   ],
   "source": [
    "X_train.device"
   ]
  },
  {
   "cell_type": "code",
   "execution_count": 6,
   "metadata": {},
   "outputs": [],
   "source": [
    "model = torch.nn.Sequential(\n",
    "    torch.nn.Linear(13, 30),\n",
    "    torch.nn.Sigmoid(),\n",
    "    torch.nn.Linear(30, 1)\n",
    ")"
   ]
  },
  {
   "cell_type": "code",
   "execution_count": 7,
   "metadata": {},
   "outputs": [
    {
     "data": {
      "text/plain": [
       "Sequential(\n",
       "  (0): Linear(in_features=13, out_features=30, bias=True)\n",
       "  (1): Sigmoid()\n",
       "  (2): Linear(in_features=30, out_features=1, bias=True)\n",
       ")"
      ]
     },
     "execution_count": 7,
     "metadata": {},
     "output_type": "execute_result"
    }
   ],
   "source": [
    "model"
   ]
  },
  {
   "cell_type": "code",
   "execution_count": 8,
   "metadata": {},
   "outputs": [],
   "source": [
    "if torch.cuda.is_available():\n",
    "    model = model.cuda()"
   ]
  },
  {
   "cell_type": "code",
   "execution_count": null,
   "metadata": {},
   "outputs": [],
   "source": []
  },
  {
   "cell_type": "code",
   "execution_count": 9,
   "metadata": {},
   "outputs": [],
   "source": [
    "loss = torch.nn.MSELoss()"
   ]
  },
  {
   "cell_type": "code",
   "execution_count": 10,
   "metadata": {},
   "outputs": [
    {
     "data": {
      "text/plain": [
       "MSELoss()"
      ]
     },
     "execution_count": 10,
     "metadata": {},
     "output_type": "execute_result"
    }
   ],
   "source": [
    "loss"
   ]
  },
  {
   "cell_type": "code",
   "execution_count": 11,
   "metadata": {},
   "outputs": [],
   "source": [
    "opt = torch.optim.SGD(model.parameters(), lr=1e-3)"
   ]
  },
  {
   "cell_type": "code",
   "execution_count": 12,
   "metadata": {},
   "outputs": [
    {
     "name": "stdout",
     "output_type": "stream",
     "text": [
      "Iter 0: loss 0.3119, valid loss 0.3082\n",
      "Iter 100: loss 0.0709, valid loss 0.0695\n",
      "Iter 200: loss 0.0630, valid loss 0.0608\n",
      "Iter 300: loss 0.0599, valid loss 0.0576\n",
      "Iter 400: loss 0.0572, valid loss 0.0549\n",
      "Iter 500: loss 0.0548, valid loss 0.0524\n",
      "Iter 600: loss 0.0526, valid loss 0.0503\n",
      "Iter 700: loss 0.0506, valid loss 0.0483\n",
      "Iter 800: loss 0.0488, valid loss 0.0466\n",
      "Iter 900: loss 0.0472, valid loss 0.0450\n"
     ]
    }
   ],
   "source": [
    "valid_losses = []\n",
    "train_losses = []\n",
    "for i in range(1000):\n",
    "    X, Y = X_train, Y_train\n",
    "\n",
    "    # 梯度清零\n",
    "    opt.zero_grad()\n",
    "    \n",
    "    # 前向传播 -- 得到反向传播所需要的中间结果\n",
    "    l = loss(model(X), Y)\n",
    "    \n",
    "    # 反向传播 -- 计算梯度\n",
    "    l.backward()\n",
    "    \n",
    "    # 更新权重\n",
    "    opt.step()\n",
    "    \n",
    "    with torch.no_grad():\n",
    "        cur_train_loss = l\n",
    "        cur_valid_loss = loss(Y_valid, model(X_valid))\n",
    "        valid_losses.append(cur_valid_loss) \n",
    "        train_losses.append(cur_train_loss)\n",
    "\n",
    "    if i%100 == 0:\n",
    "        print(f\"Iter {i}: loss {cur_train_loss:.4f}, valid loss {cur_valid_loss:.4f}\")"
   ]
  }
 ],
 "metadata": {
  "kernelspec": {
   "display_name": "AI-Course",
   "language": "python",
   "name": "ai-course"
  },
  "language_info": {
   "codemirror_mode": {
    "name": "ipython",
    "version": 3
   },
   "file_extension": ".py",
   "mimetype": "text/x-python",
   "name": "python",
   "nbconvert_exporter": "python",
   "pygments_lexer": "ipython3",
   "version": "3.7.3"
  }
 },
 "nbformat": 4,
 "nbformat_minor": 4
}
