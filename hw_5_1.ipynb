{
 "cells": [
  {
   "cell_type": "code",
   "execution_count": 1,
   "metadata": {},
   "outputs": [],
   "source": [
    "import os\n",
    "import numpy as np\n",
    "from  mpl_toolkits.mplot3d import Axes3D\n",
    "import matplotlib.pyplot as plt\n",
    "import mpl_toolkits.mplot3d"
   ]
  },
  {
   "cell_type": "code",
   "execution_count": 2,
   "metadata": {},
   "outputs": [
    {
     "data": {
      "text/plain": [
       "environ{'PATH': '/opt/conda/bin:/usr/local/nvidia/bin:/usr/local/cuda/bin:/usr/local/sbin:/usr/local/bin:/usr/sbin:/usr/bin:/sbin:/bin',\n",
       "        'LANG': 'en_US.UTF-8',\n",
       "        'LC_ALL': 'en_US.UTF-8',\n",
       "        'JUPYTERHUB_API_TOKEN': '16224c5bb3b640849dff28b4263cebdf',\n",
       "        'JPY_API_TOKEN': '16224c5bb3b640849dff28b4263cebdf',\n",
       "        'JUPYTERHUB_CLIENT_ID': 'jupyterhub-user-51185500041',\n",
       "        'JUPYTERHUB_HOST': '',\n",
       "        'JUPYTERHUB_OAUTH_CALLBACK_URL': '/user/51185500041/oauth_callback',\n",
       "        'JUPYTERHUB_USER': '51185500041',\n",
       "        'JUPYTERHUB_SERVER_NAME': '',\n",
       "        'JUPYTERHUB_API_URL': 'http://0.0.0.0:8081/hub/api',\n",
       "        'JUPYTERHUB_ACTIVITY_URL': 'http://0.0.0.0:8081/hub/api/users/51185500041/activity',\n",
       "        'JUPYTERHUB_BASE_URL': '/',\n",
       "        'JUPYTERHUB_SERVICE_PREFIX': '/user/51185500041/',\n",
       "        'USER': '51185500041',\n",
       "        'HOME': '/home/51185500041',\n",
       "        'SHELL': '/bin/bash',\n",
       "        'KERNEL_LAUNCH_TIMEOUT': '40',\n",
       "        'JPY_PARENT_PID': '37120',\n",
       "        'TERM': 'xterm-color',\n",
       "        'CLICOLOR': '1',\n",
       "        'PAGER': 'cat',\n",
       "        'GIT_PAGER': 'cat',\n",
       "        'MPLBACKEND': 'module://ipykernel.pylab.backend_inline'}"
      ]
     },
     "execution_count": 2,
     "metadata": {},
     "output_type": "execute_result"
    }
   ],
   "source": [
    "os.environ"
   ]
  },
  {
   "cell_type": "code",
   "execution_count": 3,
   "metadata": {},
   "outputs": [],
   "source": [
    "os.environ[\"CUDA_VISIBLE_DEVICES\"] = \"3\""
   ]
  },
  {
   "cell_type": "code",
   "execution_count": 4,
   "metadata": {},
   "outputs": [],
   "source": [
    "import torch"
   ]
  },
  {
   "cell_type": "code",
   "execution_count": 5,
   "metadata": {},
   "outputs": [],
   "source": [
    "x=torch.tensor([-0.5,-0.5],requires_grad=True).cuda()"
   ]
  },
  {
   "cell_type": "code",
   "execution_count": 6,
   "metadata": {},
   "outputs": [
    {
     "data": {
      "text/plain": [
       "device(type='cuda', index=0)"
      ]
     },
     "execution_count": 6,
     "metadata": {},
     "output_type": "execute_result"
    }
   ],
   "source": [
    "x.device"
   ]
  },
  {
   "cell_type": "code",
   "execution_count": null,
   "metadata": {},
   "outputs": [],
   "source": [
    "%matplotlib inline\n",
    "figure = plt.figure()\n",
    "ax = figure.gca(projection=\"3d\")\n",
    "\n",
    "x1=np.linspace(-6,6,1000)\n",
    "y1=np.linspace(-6,6,1000)\n",
    "\n",
    "x,y= np.meshgrid(x1,y1)\n",
    "\n",
    "z = 3*(1-x)**2*np.exp(-x**2-(y+1)**2)-10*(1/5*x-x**3-y**5)*np.exp(-x**2-y**2)\\\n",
    "            -1/3*np.exp(-(x+1)**2-y**2)\n",
    "\n",
    "ax.plot_surface(x,y,z,cmap=\"rainbow\")"
   ]
  },
  {
   "cell_type": "code",
   "execution_count": null,
   "metadata": {},
   "outputs": [],
   "source": []
  },
  {
   "cell_type": "code",
   "execution_count": null,
   "metadata": {},
   "outputs": [],
   "source": [
    "#梯度下降法寻找函数最优值函数\n",
    "def f(x):\n",
    "    return 3*(1-x[0])**2*torch.exp(-x[0]**2-(x[1]+1)**2)-10*(1/5*x[0]-x[0]**3-x[1]**5)*torch.exp(-x[0]**2-x[1]**2)\\\n",
    "            -1/3*torch.exp(-(x[0]+1)**2-x[1]**2)"
   ]
  },
  {
   "cell_type": "code",
   "execution_count": null,
   "metadata": {},
   "outputs": [],
   "source": [
    "#测试初值为(-0.200, -0.500)时的极小值为f(0.228, -1.626)=-6.551\n",
    "x=torch.tensor([-0.2,-0.5],requires_grad=True) #\n",
    "optimizer=torch.optim.SGD([x],lr=1e-3)\n",
    "for step in range(20000):\n",
    "    y_min = f(x)\n",
    "    optimizer.zero_grad()\n",
    "    y_min.backward()\n",
    "    optimizer.step()\n",
    "    if step % 2000 ==0:\n",
    "        print(step,x.tolist(),y_min)"
   ]
  },
  {
   "cell_type": "code",
   "execution_count": null,
   "metadata": {},
   "outputs": [],
   "source": [
    "#测试初值为(-0.200, -0.200)时的极小值为f(0.296, 0.320)=-0.065\n",
    "x=torch.tensor([-0.2,-0.2],requires_grad=True) #\n",
    "optimizer=torch.optim.SGD([x],lr=1e-3)\n",
    "for step in range(20000):\n",
    "    y_min = f(x)\n",
    "    optimizer.zero_grad()\n",
    "    y_min.backward()\n",
    "    optimizer.step()\n",
    "    if step % 2000 ==0:\n",
    "        print(step,x.tolist(),y_min)"
   ]
  },
  {
   "cell_type": "code",
   "execution_count": null,
   "metadata": {},
   "outputs": [],
   "source": [
    "#测试初值为(-0.500, -0.500)时的极小值为f(-1.347, 0.204)=-3.050\n",
    "x=torch.tensor([-0.5,-0.5],requires_grad=True) #\n",
    "optimizer=torch.optim.SGD([x],lr=1e-3)\n",
    "for step in range(20000):\n",
    "    y_min = f(x)\n",
    "    optimizer.zero_grad()\n",
    "    y_min.backward()\n",
    "    optimizer.step()\n",
    "    if step % 2000 ==0:\n",
    "        print(step,x.tolist(),y_min)"
   ]
  },
  {
   "cell_type": "code",
   "execution_count": null,
   "metadata": {},
   "outputs": [],
   "source": []
  }
 ],
 "metadata": {
  "kernelspec": {
   "display_name": "AI-Course",
   "language": "python",
   "name": "ai-course"
  },
  "language_info": {
   "codemirror_mode": {
    "name": "ipython",
    "version": 3
   },
   "file_extension": ".py",
   "mimetype": "text/x-python",
   "name": "python",
   "nbconvert_exporter": "python",
   "pygments_lexer": "ipython3",
   "version": "3.7.3"
  }
 },
 "nbformat": 4,
 "nbformat_minor": 4
}
