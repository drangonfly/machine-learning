{
 "cells": [
  {
   "cell_type": "code",
   "execution_count": 1,
   "metadata": {},
   "outputs": [],
   "source": [
    "import torch\n",
    "from torch.optim import Optimizer\n",
    "from sklearn import datasets\n",
    "import math\n",
    "import numpy as np\n",
    "import matplotlib.pyplot as plt"
   ]
  },
  {
   "cell_type": "code",
   "execution_count": 2,
   "metadata": {},
   "outputs": [],
   "source": [
    "def load_boston(ratio=0.8):\n",
    "    X, Y = datasets.load_boston(True)\n",
    "    Y.shape = -1, 1\n",
    "    \n",
    "    # normalization\n",
    "    X = X/80\n",
    "    Y = Y/(np.max(Y) - np.min(Y))\n",
    "    \n",
    "    num_samples = len(Y)\n",
    "    num_train = math.ceil(num_samples * ratio)\n",
    "    \n",
    "    # 随机打乱数据\n",
    "    idx = np.random.permutation(np.arange(num_samples))\n",
    "    traindata = X[idx[:num_train]], Y[idx[:num_train]]\n",
    "    validdata = X[idx[num_train:]], Y[idx[num_train:]]\n",
    "    \n",
    "    return traindata, validdata"
   ]
  },
  {
   "cell_type": "code",
   "execution_count": 3,
   "metadata": {},
   "outputs": [],
   "source": [
    "class GradientDescent(torch.optim.Optimizer):\n",
    "    def __init__(self, params, lr=1e-3, momentum=0.9,nesterov=False):\n",
    "        # 将参数导回Optimizer，这样可以允许lr_scheduler修改lr\n",
    "        defaults = dict(lr=lr, momentum=momentum, nesterov=nesterov)\n",
    "        \n",
    "        print(defaults)\n",
    "        super().__init__(params, defaults)\n",
    "        \n",
    "    def __setstate__(self, state):\n",
    "        super().__setstate__(state)\n",
    "        for group in self.param_groups:\n",
    "            group.setdefault('nesterov', False)\n",
    "        \n",
    "    def step(self):\n",
    "        #print('h')\n",
    "        #print(self.param_groups)\n",
    "        for group in self.param_groups:\n",
    "            momentum = group['momentum']\n",
    "            nesterov = group['nesterov']\n",
    "            for p in group['params']:\n",
    "                if p.grad is None:\n",
    "                    continue\n",
    "                grad = p.grad.data\n",
    "                if momentum != 0:\n",
    "                    param_state = self.state[p]\n",
    "                    if 'momentum_buffer' not in param_state:\n",
    "                        b = param_state['momentum_buffer'] = torch.clone(grad).detach()\n",
    "                    else:\n",
    "                        b = param_state['momentum_buffer']\n",
    "                        #b.mul_(momentum).add_(group['lr'], grad)\n",
    "                        b.mul_(momentum).add_(1, grad)\n",
    "                    if nesterov:\n",
    "                        grad = grad.add(momentum, b)\n",
    "                    else:\n",
    "                        grad = b\n",
    "                    \n",
    "\n",
    "                p.data.add_(-group['lr'], grad)\n",
    "            "
   ]
  },
  {
   "cell_type": "code",
   "execution_count": 4,
   "metadata": {},
   "outputs": [],
   "source": [
    "#a=GradientDescent(lr=1e-5)"
   ]
  },
  {
   "cell_type": "code",
   "execution_count": 5,
   "metadata": {},
   "outputs": [],
   "source": [
    "(X_train, Y_train), (X_valid, Y_valid) = load_boston()\n",
    "X_train, Y_train = torch.Tensor(X_train), torch.Tensor(Y_train)\n",
    "X_valid, Y_valid = torch.Tensor(X_valid), torch.Tensor(Y_valid)"
   ]
  },
  {
   "cell_type": "code",
   "execution_count": 6,
   "metadata": {},
   "outputs": [],
   "source": [
    "model = torch.nn.Sequential(\n",
    "    torch.nn.Linear(13, 50),\n",
    "    torch.nn.Sigmoid(),\n",
    "    torch.nn.Linear(50, 1)\n",
    ")"
   ]
  },
  {
   "cell_type": "code",
   "execution_count": 7,
   "metadata": {},
   "outputs": [],
   "source": [
    "loss = torch.nn.MSELoss()"
   ]
  },
  {
   "cell_type": "code",
   "execution_count": 8,
   "metadata": {},
   "outputs": [
    {
     "name": "stdout",
     "output_type": "stream",
     "text": [
      "{'lr': 1e-05, 'momentum': 0.99, 'nesterov': False}\n"
     ]
    }
   ],
   "source": [
    "# 使用自定义优化器\n",
    "opt = GradientDescent(model.parameters(), lr=1e-5,momentum=0.99)\n"
   ]
  },
  {
   "cell_type": "code",
   "execution_count": 9,
   "metadata": {},
   "outputs": [],
   "source": [
    "#opt.step()"
   ]
  },
  {
   "cell_type": "code",
   "execution_count": 10,
   "metadata": {},
   "outputs": [
    {
     "name": "stdout",
     "output_type": "stream",
     "text": [
      "Iter 0: loss 0.8385, valid loss 0.8140\n",
      "Iter 100: loss 0.0328, valid loss 0.0264\n",
      "Iter 200: loss 0.1428, valid loss 0.1409\n",
      "Iter 300: loss 0.0399, valid loss 0.0326\n",
      "Iter 400: loss 0.0419, valid loss 0.0336\n",
      "Iter 500: loss 0.0356, valid loss 0.0309\n",
      "Iter 600: loss 0.0326, valid loss 0.0270\n",
      "Iter 700: loss 0.0329, valid loss 0.0263\n",
      "Iter 800: loss 0.0321, valid loss 0.0261\n",
      "Iter 900: loss 0.0321, valid loss 0.0264\n",
      "Iter 1000: loss 0.0320, valid loss 0.0260\n",
      "Iter 1100: loss 0.0320, valid loss 0.0260\n",
      "Iter 1200: loss 0.0319, valid loss 0.0261\n",
      "Iter 1300: loss 0.0319, valid loss 0.0260\n",
      "Iter 1400: loss 0.0319, valid loss 0.0260\n"
     ]
    }
   ],
   "source": [
    "valid_losses = []\n",
    "train_losses = []\n",
    "for i in range(1500):\n",
    "    X, Y = X_train, Y_train\n",
    "    \n",
    "    opt.zero_grad()\n",
    "    l = loss(model(X), Y)\n",
    "    l.backward()\n",
    "    opt.step()\n",
    "    \n",
    "    with torch.no_grad():\n",
    "        cur_train_loss = l\n",
    "        cur_valid_loss = loss(Y_valid, model(X_valid))\n",
    "        valid_losses.append(cur_valid_loss) \n",
    "        train_losses.append(cur_train_loss)\n",
    "\n",
    "        if i%100 == 0:\n",
    "            print(f\"Iter {i}: loss {cur_train_loss:.4f}, valid loss {cur_valid_loss:.4f}\")\n",
    "       "
   ]
  },
  {
   "cell_type": "code",
   "execution_count": 11,
   "metadata": {},
   "outputs": [
    {
     "data": {
      "text/plain": [
       "<matplotlib.legend.Legend at 0x7f610baa9a20>"
      ]
     },
     "execution_count": 11,
     "metadata": {},
     "output_type": "execute_result"
    },
    {
     "data": {
      "image/png": "[encoded data removed]",
      "text/plain": [
       "<Figure size 432x288 with 1 Axes>"
      ]
     },
     "metadata": {
      "needs_background": "light"
     },
     "output_type": "display_data"
    }
   ],
   "source": [
    "plt.plot(train_losses)\n",
    "plt.plot(valid_losses)\n",
    "plt.legend([\"train loss\", \"validation loss\"])"
   ]
  },
  {
   "cell_type": "markdown",
   "metadata": {},
   "source": [
    "经过阅读torch.optim.SGD的源代码，发现pytorch实现动量的方式和提供的参考资料不一样，"
   ]
  },
  {
   "cell_type": "markdown",
   "metadata": {},
   "source": [
    " ![jupyter](./momentum.png)"
   ]
  },
  {
   "cell_type": "markdown",
   "metadata": {},
   "source": [
    "其中，Nesterov是动量算法的一个变种，可以理解为在标准动量方法中添加了一个校正因子。"
   ]
  },
  {
   "cell_type": "markdown",
   "metadata": {},
   "source": [
    " ![jupyter](./nesterov.png)"
   ]
  },
  {
   "cell_type": "code",
   "execution_count": null,
   "metadata": {},
   "outputs": [],
   "source": []
  }
 ],
 "metadata": {
  "kernelspec": {
   "display_name": "AI-Course",
   "language": "python",
   "name": "ai-course"
  },
  "language_info": {
   "codemirror_mode": {
    "name": "ipython",
    "version": 3
   },
   "file_extension": ".py",
   "mimetype": "text/x-python",
   "name": "python",
   "nbconvert_exporter": "python",
   "pygments_lexer": "ipython3",
   "version": "3.7.3"
  }
 },
 "nbformat": 4,
 "nbformat_minor": 4
}
