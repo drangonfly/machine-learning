{
 "cells": [
  {
   "cell_type": "code",
   "execution_count": 52,
   "metadata": {},
   "outputs": [],
   "source": [
    "from sklearn import datasets\n",
    "import matplotlib.pyplot as plt\n",
    "import numpy as np\n",
    "import math"
   ]
  },
  {
   "cell_type": "code",
   "execution_count": 53,
   "metadata": {},
   "outputs": [],
   "source": [
    "def load_iris(ratio=0.8):\n",
    "    features, target = datasets.load_iris(True)\n",
    "    \n",
    "    # 只保留0,1分类 -- 把任务变成二分类任务\n",
    "    # 如果做多分类任务请注释这一段话\n",
    "    idx = np.bitwise_or(target == 0, target == 1)\n",
    "    features = features[idx]\n",
    "    target = target[idx]\n",
    "    \n",
    "    num_samples = len(target)\n",
    "    num_train = math.ceil(num_samples * ratio)\n",
    "    \n",
    "    \n",
    "    # 随机打乱数据\n",
    "    idx = np.random.permutation(np.arange(num_samples))\n",
    "    traindata = features[idx[:num_train]], target[idx[:num_train]]\n",
    "    validdata = features[idx[num_train:]], target[idx[num_train:]]\n",
    "    \n",
    "    return traindata, validdata"
   ]
  },
  {
   "cell_type": "markdown",
   "metadata": {},
   "source": [
    "# 作业三\n",
    "\n",
    "## 四、Logistic回归与最大熵模型\n",
    "\n",
    "要求：\n",
    "\n",
    "* 通过logistic回归来对只含两类的iris数据集进行二分类\n",
    "* 利用梯度下降法（定步长）\n",
    "* 在尽量不修改代码结构的前提下完成工作\n",
    "\n",
    "ETA：1-5 hours"
   ]
  },
  {
   "cell_type": "markdown",
   "metadata": {},
   "source": [
    "读取数据"
   ]
  },
  {
   "cell_type": "code",
   "execution_count": 54,
   "metadata": {},
   "outputs": [],
   "source": [
    "(X_train, Y_train), (X_valid, Y_valid) = load_iris()"
   ]
  },
  {
   "cell_type": "markdown",
   "metadata": {},
   "source": [
    "### 一、定义线性回归函数\n",
    "\n",
    "为了简化推导，记$\\hat{Y} = WX+b$\n",
    "\n",
    "预测 -- 取下述概率最大的值：\n",
    "\n",
    "$$P(class=1|x) = \\frac{\\exp(\\hat{Y})}{1+\\exp(\\hat{Y})}$$\n",
    "$$P(class=0|x) = \\frac{1}{1+\\exp(\\hat{Y})}$$"
   ]
  },
  {
   "cell_type": "code",
   "execution_count": 55,
   "metadata": {},
   "outputs": [],
   "source": [
    "class Logistic:\n",
    "    def __init__(self, in_channels):\n",
    "        self.W = np.zeros(in_channels)\n",
    "        self.b = 0\n",
    "        \n",
    "        \n",
    "    def __call__(self, X):\n",
    "        \"\"\"计算 \\hat{Y} = WX + b，其中WX为内积\"\"\"\n",
    "        n=X.shape[0]\n",
    "        m=X.shape[1]\n",
    "        answer=[0 for i in range(n)] \n",
    "       # 对每一个实例计算WX+b并返回\n",
    "        for i in range(n):\n",
    "            sum=self.b\n",
    "            for j in range(m):\n",
    "                sum+=X[i][j]*self.W[j]\n",
    "            answer[i]=sum\n",
    "        return answer\n",
    "\n",
    "    \n",
    "    def predict(self, X):\n",
    "        \"\"\"预测X所属的类别\"\"\"\n",
    "        \n",
    "        # 实现它\n",
    "        Y=self.__call__(X) ###获得计算完的Y\n",
    "        prob=[1/(1+math.exp(y)) for y in Y] ###计算为0类的概率\n",
    "        return [(p<0.5)+0 for p in prob] ##若概率<0.5则返回0 否则返回1\n",
    "    \n",
    "    \n",
    "def accuracy(real, predict):\n",
    "    \"\"\"计算预测准确度\"\"\"\n",
    "    return np.sum(real == predict)/real.size"
   ]
  },
  {
   "cell_type": "code",
   "execution_count": 56,
   "metadata": {},
   "outputs": [
    {
     "data": {
      "text/plain": [
       "[0.0,\n",
       " 0.0,\n",
       " 0.0,\n",
       " 0.0,\n",
       " 0.0,\n",
       " 0.0,\n",
       " 0.0,\n",
       " 0.0,\n",
       " 0.0,\n",
       " 0.0,\n",
       " 0.0,\n",
       " 0.0,\n",
       " 0.0,\n",
       " 0.0,\n",
       " 0.0,\n",
       " 0.0,\n",
       " 0.0,\n",
       " 0.0,\n",
       " 0.0,\n",
       " 0.0,\n",
       " 0.0,\n",
       " 0.0,\n",
       " 0.0,\n",
       " 0.0,\n",
       " 0.0,\n",
       " 0.0,\n",
       " 0.0,\n",
       " 0.0,\n",
       " 0.0,\n",
       " 0.0,\n",
       " 0.0,\n",
       " 0.0,\n",
       " 0.0,\n",
       " 0.0,\n",
       " 0.0,\n",
       " 0.0,\n",
       " 0.0,\n",
       " 0.0,\n",
       " 0.0,\n",
       " 0.0,\n",
       " 0.0,\n",
       " 0.0,\n",
       " 0.0,\n",
       " 0.0,\n",
       " 0.0,\n",
       " 0.0,\n",
       " 0.0,\n",
       " 0.0,\n",
       " 0.0,\n",
       " 0.0,\n",
       " 0.0,\n",
       " 0.0,\n",
       " 0.0,\n",
       " 0.0,\n",
       " 0.0,\n",
       " 0.0,\n",
       " 0.0,\n",
       " 0.0,\n",
       " 0.0,\n",
       " 0.0,\n",
       " 0.0,\n",
       " 0.0,\n",
       " 0.0,\n",
       " 0.0,\n",
       " 0.0,\n",
       " 0.0,\n",
       " 0.0,\n",
       " 0.0,\n",
       " 0.0,\n",
       " 0.0,\n",
       " 0.0,\n",
       " 0.0,\n",
       " 0.0,\n",
       " 0.0,\n",
       " 0.0,\n",
       " 0.0,\n",
       " 0.0,\n",
       " 0.0,\n",
       " 0.0,\n",
       " 0.0]"
      ]
     },
     "execution_count": 56,
     "metadata": {},
     "output_type": "execute_result"
    }
   ],
   "source": [
    "# 测试LinearLayer是否能够正确调用\n",
    "num_features = X_train.shape[-1]\n",
    "f = Logistic(num_features)\n",
    "\n",
    "f(X_train)"
   ]
  },
  {
   "cell_type": "code",
   "execution_count": 57,
   "metadata": {},
   "outputs": [
    {
     "data": {
      "text/plain": [
       "[0,\n",
       " 0,\n",
       " 0,\n",
       " 0,\n",
       " 0,\n",
       " 0,\n",
       " 0,\n",
       " 0,\n",
       " 0,\n",
       " 0,\n",
       " 0,\n",
       " 0,\n",
       " 0,\n",
       " 0,\n",
       " 0,\n",
       " 0,\n",
       " 0,\n",
       " 0,\n",
       " 0,\n",
       " 0,\n",
       " 0,\n",
       " 0,\n",
       " 0,\n",
       " 0,\n",
       " 0,\n",
       " 0,\n",
       " 0,\n",
       " 0,\n",
       " 0,\n",
       " 0,\n",
       " 0,\n",
       " 0,\n",
       " 0,\n",
       " 0,\n",
       " 0,\n",
       " 0,\n",
       " 0,\n",
       " 0,\n",
       " 0,\n",
       " 0,\n",
       " 0,\n",
       " 0,\n",
       " 0,\n",
       " 0,\n",
       " 0,\n",
       " 0,\n",
       " 0,\n",
       " 0,\n",
       " 0,\n",
       " 0,\n",
       " 0,\n",
       " 0,\n",
       " 0,\n",
       " 0,\n",
       " 0,\n",
       " 0,\n",
       " 0,\n",
       " 0,\n",
       " 0,\n",
       " 0,\n",
       " 0,\n",
       " 0,\n",
       " 0,\n",
       " 0,\n",
       " 0,\n",
       " 0,\n",
       " 0,\n",
       " 0,\n",
       " 0,\n",
       " 0,\n",
       " 0,\n",
       " 0,\n",
       " 0,\n",
       " 0,\n",
       " 0,\n",
       " 0,\n",
       " 0,\n",
       " 0,\n",
       " 0,\n",
       " 0]"
      ]
     },
     "execution_count": 57,
     "metadata": {},
     "output_type": "execute_result"
    }
   ],
   "source": [
    "f.predict(X_train)"
   ]
  },
  {
   "cell_type": "code",
   "execution_count": 58,
   "metadata": {},
   "outputs": [
    {
     "data": {
      "text/plain": [
       "0.4875"
      ]
     },
     "execution_count": 58,
     "metadata": {},
     "output_type": "execute_result"
    }
   ],
   "source": [
    "accuracy(Y_train, f.predict(X_train)) # 瞎猜 -- 50%左右的分类准确度"
   ]
  },
  {
   "cell_type": "markdown",
   "metadata": {},
   "source": [
    "### 二、定义误差 -- 对数似然函数\n",
    "\n",
    "$$ L(Y, \\hat{Y}) = \\sum_{i=1}^{N} [y_i\\hat{y}_i - log(1+\\exp(\\hat{y}_i))]$$\n",
    "\n",
    "其中$Y$为真实值，$\\hat{Y} = Wx + b$为预测值\n",
    "\n",
    "注：$L(Y, \\hat{Y}) \\neq L(\\hat{Y}, Y)$"
   ]
  },
  {
   "cell_type": "code",
   "execution_count": 67,
   "metadata": {},
   "outputs": [],
   "source": [
    "class NegativeLogLikelihood:\n",
    "    # 针对二项Logistic的负对数似然函数\n",
    "    # 梯度下降法求解的问题实际上是 min. -L\n",
    "    def __call__(self, real, predict):\n",
    "        #assert len(real.shape) == 1\n",
    "        #assert real.size == predict.size\n",
    "        \n",
    "        # 实现它\n",
    "        n=len(real)\n",
    "        sum=0\n",
    "        for i in range(n):###按照公式计算负对数似然函数\n",
    "            sum-=real[i]*predict[i]-math.log(1+math.exp(predict[i]))\n",
    "        return sum\n"
   ]
  },
  {
   "cell_type": "code",
   "execution_count": 68,
   "metadata": {},
   "outputs": [
    {
     "data": {
      "text/plain": [
       "51.554596553266244"
      ]
     },
     "execution_count": 68,
     "metadata": {},
     "output_type": "execute_result"
    }
   ],
   "source": [
    "# 测试loss是否能够正确调用\n",
    "loss = NegativeLogLikelihood()\n",
    "loss(Y_train, f(X_train))"
   ]
  },
  {
   "cell_type": "markdown",
   "metadata": {},
   "source": [
    "### 三、计算梯度\n",
    "\n",
    "为了使用梯度下降法，需要计算梯度$(\\frac{\\partial L}{\\partial W}, \\frac{\\partial L}{\\partial b})$\n",
    "\n",
    "利用链式法则：\n",
    "\n",
    "$$ \\frac{\\partial L}{\\partial W} = \\sum_{i=1}^{N}\\frac{\\partial L}{\\partial \\hat{Y}_i} \\frac{\\partial \\hat{Y}_i}{\\partial W} $$\n",
    "$$ \\frac{\\partial L}{\\partial b} = \\sum_{i=1}^{N}\\frac{\\partial L}{\\partial \\hat{Y}_i} \\frac{\\partial \\hat{Y}_i}{\\partial b} $$"
   ]
  },
  {
   "cell_type": "code",
   "execution_count": null,
   "metadata": {},
   "outputs": [],
   "source": [
    "def grad(Y, X, Y_out):\n",
    "    \"\"\"\n",
    "    计算负对数似然函数在(X, Y)上关于W与b的偏导数\n",
    "    Inputs:\n",
    "      Y: shape (N, )\n",
    "        类别的真实值\n",
    "      X: shape (N, C)\n",
    "        输入特征\n",
    "      Y_out: shape (N, )\n",
    "        Y_out = WX+b\n",
    "\n",
    "    Outputs:\n",
    "      dLdW: shape (C, )\n",
    "      dLdb: shape (1, )\n",
    "    \"\"\"\n",
    "    # 实现它\n",
    "    N=len(X)\n",
    "    M=len(X[-1]) ##有几维特征\n",
    "    Grad=[0 for i in range(M+1)] \n",
    "    for j in range(M):###先计算关于W的导数\n",
    "        for i in range(N):\n",
    "            Grad[j]+=-Y[i]*X[i][j]+math.exp(Y_out[i])/(math.exp(Y_out[i])+1)*X[i][j]\n",
    "    for i in range(N):##再计算关于b的导数\n",
    "        Grad[-1]+=math.exp(Y_out[i])/(math.exp(Y_out[i])+1)\n",
    "    return Grad[:M],Grad[-1]\n",
    "    \n",
    "    dLdY = None # dLdY.shape == (?, ) （?为占位符, 不需要回答..)\n",
    "    dYdW = None # dYdW.shape == (?, 4)\n",
    "    dYdb = None # dYdb.shape == (?, 1)\n",
    "    \n",
    "    dLdW = None # dLdW.shape == (4, )\n",
    "    dLdb = None # dLdb.shape == (1, )\n",
    "                 \n",
    "    return dLdW, dLdb"
   ]
  },
  {
   "cell_type": "code",
   "execution_count": null,
   "metadata": {},
   "outputs": [],
   "source": [
    "# 测试梯度是否正确计算\n",
    "grad(Y_train, X_train, f(X_train))"
   ]
  },
  {
   "cell_type": "code",
   "execution_count": null,
   "metadata": {},
   "outputs": [],
   "source": [
    "class GradientDescent:\n",
    "    def __init__(self, step=1e-3, thres=1e3):\n",
    "        self.step = step\n",
    "        self.thres = np.abs(thres)\n",
    "        \n",
    "        \n",
    "    def update(self, f:Logistic, dLdW, dLdb):\n",
    "        \"\"\"利用梯度dW来更新f的权重\"\"\"\n",
    "        # 实现它\n",
    "        M=len(dLdW) \n",
    "        for i in range(M):###更新负梯度方向的步长\n",
    "            f.W[i]-=self.step*dLdW[i]\n",
    "        f.b-=self.step*dLdb\n",
    "       "
   ]
  },
  {
   "cell_type": "code",
   "execution_count": 70,
   "metadata": {},
   "outputs": [
    {
     "name": "stdout",
     "output_type": "stream",
     "text": [
      "before update: loss:55.4518 accuracy:0.4875\n",
      "after update: loss:51.5546 accuracy:0.5125\n"
     ]
    }
   ],
   "source": [
    "# 测试梯度更新是否正常工作\n",
    "opt = GradientDescent(1e-3)\n",
    "f = Logistic(num_features)\n",
    "\n",
    "print(f\"before update: loss:{loss(Y_train, f(X_train)):.4f} accuracy:{accuracy(Y_train, f.predict(X_train))}\")\n",
    "\n",
    "dLdW, dLdb = grad(Y_train, X_train, f(X_train))\n",
    "opt.update(f, dLdW, dLdb)\n",
    "\n",
    "print(f\"after update: loss:{loss(Y_train, f(X_train)):.4f} accuracy:{accuracy(Y_train, f.predict(X_train))}\")"
   ]
  },
  {
   "cell_type": "markdown",
   "metadata": {},
   "source": [
    "### 四、把所有函数组合成一个完整的训练过程"
   ]
  },
  {
   "cell_type": "code",
   "execution_count": 71,
   "metadata": {},
   "outputs": [
    {
     "name": "stdout",
     "output_type": "stream",
     "text": [
      "Iter 0: loss 55.4518, accu: 0.5125, valid loss 13.8546, valid accu 0.4500\n",
      "Iter 50: loss 53.4341, accu: 0.5125, valid loss 13.4752, valid accu 0.4500\n",
      "Iter 100: loss 51.7700, accu: 0.5125, valid loss 13.1342, valid accu 0.4500\n",
      "Iter 150: loss 50.2754, accu: 0.5250, valid loss 12.8075, valid accu 0.4500\n",
      "Iter 200: loss 48.8805, accu: 0.6125, valid loss 12.4892, valid accu 0.5000\n",
      "Iter 250: loss 47.5571, accu: 0.8375, valid loss 12.1789, valid accu 0.7500\n",
      "Iter 300: loss 46.2926, accu: 0.9750, valid loss 11.8774, valid accu 0.9500\n",
      "Iter 350: loss 45.0807, accu: 1.0000, valid loss 11.5852, valid accu 1.0000\n",
      "Iter 400: loss 43.9174, accu: 1.0000, valid loss 11.3025, valid accu 1.0000\n",
      "Iter 450: loss 42.7996, accu: 1.0000, valid loss 11.0295, valid accu 1.0000\n",
      "Iter 500: loss 41.7251, accu: 1.0000, valid loss 10.7660, valid accu 1.0000\n",
      "Iter 550: loss 40.6917, accu: 1.0000, valid loss 10.5118, valid accu 1.0000\n",
      "Iter 600: loss 39.6975, accu: 1.0000, valid loss 10.2666, valid accu 1.0000\n",
      "Iter 650: loss 38.7407, accu: 1.0000, valid loss 10.0302, valid accu 1.0000\n",
      "Iter 700: loss 37.8197, accu: 1.0000, valid loss 9.8021, valid accu 1.0000\n",
      "Iter 750: loss 36.9328, accu: 1.0000, valid loss 9.5820, valid accu 1.0000\n",
      "Iter 800: loss 36.0785, accu: 1.0000, valid loss 9.3696, valid accu 1.0000\n",
      "Iter 850: loss 35.2554, accu: 1.0000, valid loss 9.1646, valid accu 1.0000\n",
      "Iter 900: loss 34.4620, accu: 1.0000, valid loss 8.9667, valid accu 1.0000\n",
      "Iter 950: loss 33.6971, accu: 1.0000, valid loss 8.7756, valid accu 1.0000\n"
     ]
    }
   ],
   "source": [
    "num_features = X_train.shape[-1]\n",
    "f = Logistic(num_features)\n",
    "opt = GradientDescent(1e-5)\n",
    "loss = NegativeLogLikelihood()\n",
    "\n",
    "valid_losses = []\n",
    "valid_accuracies = []\n",
    "train_losses = []\n",
    "train_accuracies = []\n",
    "for i in range(1000):\n",
    "    X, Y = X_train, Y_train\n",
    "    \n",
    "    Y_out = f(X)       \n",
    "    dLdW, dLdb = grad(Y, X, Y_out)\n",
    "    opt.update(f, dLdW, dLdb)\n",
    "    \n",
    "    # 记录中间结果\n",
    "    cur_valid_loss = loss(Y_valid, f(X_valid))\n",
    "    cur_valid_accu = accuracy(Y_valid, f.predict(X_valid))\n",
    "    cur_train_loss = loss(Y, Y_out)\n",
    "    cur_train_accu = accuracy(Y, f.predict(X))\n",
    "    valid_losses.append(cur_valid_loss) \n",
    "    valid_accuracies.append(cur_valid_accu)\n",
    "    train_losses.append(cur_train_loss)\n",
    "    train_accuracies.append(cur_train_accu)\n",
    "    \n",
    "    if i%50 == 0:\n",
    "        print(f\"Iter {i}: loss {cur_train_loss:.4f}, accu: {cur_train_accu:.4f}, valid loss {cur_valid_loss:.4f}, valid accu {cur_valid_accu:.4f}\")"
   ]
  },
  {
   "cell_type": "markdown",
   "metadata": {},
   "source": [
    "### 五、打印中间结果"
   ]
  },
  {
   "cell_type": "code",
   "execution_count": 72,
   "metadata": {},
   "outputs": [
    {
     "data": {
      "text/plain": [
       "<matplotlib.legend.Legend at 0x7f8796970d68>"
      ]
     },
     "execution_count": 72,
     "metadata": {},
     "output_type": "execute_result"
    },
    {
     "data": {
      "image/png": "[encoded data removed]",
      "text/plain": [
       "<Figure size 432x288 with 1 Axes>"
      ]
     },
     "metadata": {
      "needs_background": "light"
     },
     "output_type": "display_data"
    }
   ],
   "source": [
    "plt.plot(train_losses)\n",
    "plt.plot(valid_losses)\n",
    "plt.legend([\"train loss\", \"validation loss\"])"
   ]
  },
  {
   "cell_type": "code",
   "execution_count": 73,
   "metadata": {},
   "outputs": [
    {
     "data": {
      "text/plain": [
       "<matplotlib.legend.Legend at 0x7f8796939f28>"
      ]
     },
     "execution_count": 73,
     "metadata": {},
     "output_type": "execute_result"
    },
    {
     "data": {
      "image/png": "[encoded data removed]",
      "text/plain": [
       "<Figure size 432x288 with 1 Axes>"
      ]
     },
     "metadata": {
      "needs_background": "light"
     },
     "output_type": "display_data"
    }
   ],
   "source": [
    "plt.plot(train_accuracies)\n",
    "plt.plot(valid_accuracies)\n",
    "plt.legend([\"train accuracy\", \"validation accuracy\"])"
   ]
  },
  {
   "cell_type": "code",
   "execution_count": 74,
   "metadata": {},
   "outputs": [
    {
     "data": {
      "text/plain": [
       "<matplotlib.legend.Legend at 0x7f87968e67f0>"
      ]
     },
     "execution_count": 74,
     "metadata": {},
     "output_type": "execute_result"
    },
    {
     "data": {
      "image/png": "[encoded data removed]",
      "text/plain": [
       "<Figure size 432x288 with 1 Axes>"
      ]
     },
     "metadata": {
      "needs_background": "light"
     },
     "output_type": "display_data"
    }
   ],
   "source": [
    "# 预测结果与真实结果重合\n",
    "plt.scatter(np.arange(Y_valid.size), f.predict(X_valid))\n",
    "plt.scatter(np.arange(Y_valid.size), Y_valid)\n",
    "plt.legend([\"prediction\", \"ground truth\"])"
   ]
  },
  {
   "cell_type": "code",
   "execution_count": null,
   "metadata": {},
   "outputs": [],
   "source": []
  },
  {
   "cell_type": "code",
   "execution_count": null,
   "metadata": {},
   "outputs": [],
   "source": []
  }
 ],
 "metadata": {
  "kernelspec": {
   "display_name": "AI-Course",
   "language": "python",
   "name": "ai-course"
  },
  "language_info": {
   "codemirror_mode": {
    "name": "ipython",
    "version": 3
   },
   "file_extension": ".py",
   "mimetype": "text/x-python",
   "name": "python",
   "nbconvert_exporter": "python",
   "pygments_lexer": "ipython3",
   "version": "3.7.3"
  }
 },
 "nbformat": 4,
 "nbformat_minor": 4
}
