x{
 "cells": [
  {
   "cell_type": "markdown",
   "metadata": {},
   "source": [
    "# 作业三\n",
    "\n",
    "## 一、Python类"
   ]
  },
  {
   "cell_type": "code",
   "execution_count": 1,
   "metadata": {},
   "outputs": [],
   "source": [
    "import numpy as np\n",
    "import matplotlib.pyplot as plt"
   ]
  },
  {
   "cell_type": "code",
   "execution_count": 2,
   "metadata": {},
   "outputs": [],
   "source": [
    "class DummyData:\n",
    "    def __init__(self, num=200):\n",
    "        self.num = num\n",
    "        \n",
    "    def load_data(self, train=True):\n",
    "        W = [0.3, 2, 1]\n",
    "        if train:\n",
    "            X = np.linspace(-2, 2, num=self.num)\n",
    "            Y = W[0]*X**2 + W[1]*X + W[2] + 0.4*np.random.randn(X.size)\n",
    "        else:\n",
    "            X = np.linspace(-10, 10, num=self.num)\n",
    "            Y = W[0]*X**2 + W[1]*X + W[2] + 5*np.random.randn(X.size)\n",
    "        return X, Y"
   ]
  },
  {
   "cell_type": "code",
   "execution_count": 3,
   "metadata": {},
   "outputs": [],
   "source": [
    "X_train, Y_train = DummyData(500).load_data()\n",
    "X_valid, Y_valid = DummyData(200).load_data(train=False)"
   ]
  },
  {
   "cell_type": "code",
   "execution_count": 5,
   "metadata": {},
   "outputs": [
    {
     "data": {
      "text/plain": [
       "<matplotlib.legend.Legend at 0x7f3564676358>"
      ]
     },
     "execution_count": 5,
     "metadata": {},
     "output_type": "execute_result"
    },
    {
     "data": {
      "image/png": "[encoded data removed]",
      "text/plain": [
       "<Figure size 432x288 with 1 Axes>"
      ]
     },
     "metadata": {
      "needs_background": "light"
     },
     "output_type": "display_data"
    }
   ],
   "source": [
    "plt.scatter(X_train, Y_train)\n",
    "plt.scatter(X_valid, Y_valid)\n",
    "plt.legend([\"Training data\", \"Validation data\"])"
   ]
  },
  {
   "cell_type": "markdown",
   "metadata": {},
   "source": [
    "# 拟合上述曲线\n",
    "\n",
    "要求：\n",
    "\n",
    "* 函数$ f(x) = w_0x^2 + w_1x + w_2 $\n",
    "* 误差采用均方误差 $L := \\frac{\\sum_{i=1}^{n}(f(X_i) - Y_i)^2}{n}$\n",
    "* 固定步长的梯度下降法\n",
    "* 在尽可能不修改代码结构的前提下完成工作\n",
    "* 利用`X_train, Y_train`拟合，利用`X_valid, Y_valid`来验证拟合的效果"
   ]
  },
  {
   "cell_type": "markdown",
   "metadata": {},
   "source": [
    "## 定义模型、优化器及误差"
   ]
  },
  {
   "cell_type": "code",
   "execution_count": 12,
   "metadata": {},
   "outputs": [],
   "source": [
    "# 只需要修改这一部分 -- 代码量在20行以内\n",
    "class Parabola:\n",
    "    def __init__(self):\n",
    "        self.W = np.zeros(3)\n",
    "        \n",
    "    def __call__(self, X):\n",
    "        return self.predict(X)\n",
    "    \n",
    "    def predict(self, X):\n",
    "        \"\"\"计算f(X)，X为向量\"\"\"\n",
    "        w0=self.W[0]\n",
    "        w1=self.W[1]\n",
    "        w2=self.W[2]\n",
    "        return w0*(X**2)+w1*X+w2 #计算f(X)并返回\n",
    "\n",
    "        \n",
    "class GradientDescent:\n",
    "    def __init__(self, step=1e-3):\n",
    "        self.step = step\n",
    "        \n",
    "    def update(self, f:Parabola, dW):\n",
    "        \"\"\"利用梯度dW来更新f的权重\"\"\"\n",
    "        # 实现它\n",
    "        f.W[0]-=dW[0]*0.1 ##步长为0.1 负梯度方向更新f.W\n",
    "        f.W[1]-=dW[1]*0.1\n",
    "        f.W[2]-=dW[2]*0.1\n",
    "\n",
    "        \n",
    "\n",
    "def loss(predict, real):\n",
    "    \"\"\"计算预测值与真实值之间的误差 L\"\"\"\n",
    "    # 实现它\n",
    "    loss=0\n",
    "    lens=len(predict)\n",
    "    for i in range(lens):###计算两组数的均方误差\n",
    "        loss+=(predict[i]-real[i])**2\n",
    "    loss/=lens\n",
    "    return loss\n",
    "\n",
    "    \n",
    "    \n",
    "def grad(f, X, Y):\n",
    "    \"\"\"计算L在X处的关于参数W的导数, 其中Y=f(X)， X、Y均为向量\"\"\"\n",
    "    n=len(X)\n",
    "    W0,W1,W2=0,0,0\n",
    "    \"\"\"分别计算L对W0,W1,W2的导数并返回\"\"\"\n",
    "    for i in range(n):\n",
    "        W0+=2*(f(X[i])-Y[i])*X[i]*X[i]\n",
    "    W0=W0/n\n",
    "    \n",
    "    for i in range(n):\n",
    "        W1+=2*(f(X[i])-Y[i])*X[i]\n",
    "    W1=W1/n\n",
    "    \n",
    "    for i in range(n):\n",
    "        W2+=2*(f(X[i])-Y[i])\n",
    "        \n",
    "    W2=W2/n\n",
    "    return([W0,W1,W2])\n",
    "    \n"
   ]
  },
  {
   "cell_type": "markdown",
   "metadata": {},
   "source": [
    "## 拟合模型"
   ]
  },
  {
   "cell_type": "code",
   "execution_count": 13,
   "metadata": {},
   "outputs": [
    {
     "name": "stdout",
     "output_type": "stream",
     "text": [
      "Iter 0: train loss 3.3096589309113376, valid loss 151.73018872805278\n",
      "Iter 50: train loss 0.14977809881893642, valid loss 25.014226971091386\n",
      "Iter 100: train loss 0.14969795166074787, valid loss 24.529223705128235\n",
      "Iter 150: train loss 0.14969791649920566, valid loss 24.520580219497234\n",
      "Iter 200: train loss 0.14969791648377995, valid loss 24.520399842416715\n",
      "Iter 250: train loss 0.14969791648377329, valid loss 24.52039606462746\n",
      "Iter 300: train loss 0.1496979164837732, valid loss 24.52039598550006\n",
      "Iter 350: train loss 0.14969791648377315, valid loss 24.5203959838427\n",
      "Iter 400: train loss 0.14969791648377317, valid loss 24.52039598380799\n",
      "Iter 450: train loss 0.1496979164837731, valid loss 24.520395983807266\n",
      "Iter 500: train loss 0.1496979164837731, valid loss 24.520395983807266\n",
      "Iter 550: train loss 0.1496979164837731, valid loss 24.520395983807266\n",
      "Iter 600: train loss 0.1496979164837731, valid loss 24.520395983807266\n",
      "Iter 650: train loss 0.1496979164837731, valid loss 24.520395983807266\n",
      "Iter 700: train loss 0.1496979164837731, valid loss 24.520395983807266\n",
      "Iter 750: train loss 0.1496979164837731, valid loss 24.520395983807266\n",
      "Iter 800: train loss 0.1496979164837731, valid loss 24.520395983807266\n",
      "Iter 850: train loss 0.1496979164837731, valid loss 24.520395983807266\n",
      "Iter 900: train loss 0.1496979164837731, valid loss 24.520395983807266\n",
      "Iter 950: train loss 0.1496979164837731, valid loss 24.520395983807266\n"
     ]
    }
   ],
   "source": [
    "f = Parabola()\n",
    "opt = GradientDescent(1e-3)\n",
    "\n",
    "valid_losses = []\n",
    "train_losses = []\n",
    "for i in range(1000):\n",
    "    X, Y = X_train, Y_train\n",
    "    \n",
    "    Y_out = f(X)\n",
    "    dW = grad(f, X, Y)\n",
    "    opt.update(f, dW)\n",
    "    \n",
    "    cur_valid_loss = loss(Y_valid, f(X_valid))\n",
    "    cur_train_loss = loss(Y, f(X))\n",
    "    valid_losses.append(cur_valid_loss) \n",
    "    train_losses.append(cur_train_loss)\n",
    "    \n",
    "    if i%50 == 0:\n",
    "        print(f\"Iter {i}: train loss {cur_train_loss}, valid loss {cur_valid_loss}\")"
   ]
  },
  {
   "cell_type": "markdown",
   "metadata": {},
   "source": [
    "## 显示结果\n",
    "\n",
    "结果不好是正常的"
   ]
  },
  {
   "cell_type": "code",
   "execution_count": 14,
   "metadata": {},
   "outputs": [
    {
     "data": {
      "text/plain": [
       "<matplotlib.legend.Legend at 0x7f34cb071a20>"
      ]
     },
     "execution_count": 14,
     "metadata": {},
     "output_type": "execute_result"
    },
    {
     "data": {
      "image/png": "[encoded data removed]",
      "text/plain": [
       "<Figure size 432x288 with 1 Axes>"
      ]
     },
     "metadata": {
      "needs_background": "light"
     },
     "output_type": "display_data"
    }
   ],
   "source": [
    "plt.plot(train_losses)\n",
    "plt.plot(valid_losses)\n",
    "plt.legend([\"train loss\", \"validation loss\"])"
   ]
  },
  {
   "cell_type": "code",
   "execution_count": 15,
   "metadata": {},
   "outputs": [
    {
     "data": {
      "text/plain": [
       "<matplotlib.legend.Legend at 0x7f34cb03f240>"
      ]
     },
     "execution_count": 15,
     "metadata": {},
     "output_type": "execute_result"
    },
    {
     "data": {
      "image/png": "[encoded data removed]",
      "text/plain": [
       "<Figure size 432x288 with 1 Axes>"
      ]
     },
     "metadata": {
      "needs_background": "light"
     },
     "output_type": "display_data"
    }
   ],
   "source": [
    "plt.scatter(X_valid, f(X_valid))\n",
    "plt.scatter(X_valid, Y_valid)\n",
    "plt.legend([\"prediction\", \"ground truth\"])"
   ]
  },
  {
   "cell_type": "code",
   "execution_count": null,
   "metadata": {},
   "outputs": [],
   "source": []
  },
  {
   "cell_type": "code",
   "execution_count": null,
   "metadata": {},
   "outputs": [],
   "source": []
  },
  {
   "cell_type": "code",
   "execution_count": null,
   "metadata": {},
   "outputs": [],
   "source": []
  },
  {
   "cell_type": "code",
   "execution_count": null,
   "metadata": {},
   "outputs": [],
   "source": []
  },
  {
   "cell_type": "code",
   "execution_count": null,
   "metadata": {},
   "outputs": [],
   "source": []
  },
  {
   "cell_type": "code",
   "execution_count": null,
   "metadata": {},
   "outputs": [],
   "source": []
  }
 ],
 "metadata": {
  "kernelspec": {
   "display_name": "Python 3",
   "language": "python",
   "name": "python3"
  },
  "language_info": {
   "codemirror_mode": {
    "name": "ipython",
    "version": 3
   },
   "file_extension": ".py",
   "mimetype": "text/x-python",
   "name": "python",
   "nbconvert_exporter": "python",
   "pygments_lexer": "ipython3",
   "version": "3.7.3"
  }
 },
 "nbformat": 4,
 "nbformat_minor": 4
}
